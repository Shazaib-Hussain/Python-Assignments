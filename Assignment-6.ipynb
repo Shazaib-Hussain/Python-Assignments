{
 "cells": [
  {
   "cell_type": "markdown",
   "metadata": {},
   "source": [
    "Q:01:Define Object Oriented Programming Language\n",
    "Ans\n",
    "Object Oriented Programming Language (OOPL) is a programming language that is based on Object Oriented Programming concepts or models like Encapsulation, Abstraction, Polymorphism and Inheritance. Examples of OOPL are Java, C++, C#, Simula and Smalltalk. \n"
   ]
  },
  {
   "cell_type": "markdown",
   "metadata": {},
   "source": [
    "Q:02:List down benefits of OOP\n",
    "Ans\n",
    "It allows reusing some facilities rather than building it again and again. It is done by using class concept of OOP. \n",
    "data redundancy is one of the greatest advantages of OOP. If a user wants a similar functionality in multiple classes, user can go ahead by writing common class definitions for the similar functionalities and inherit them.\n",
    "Maintenance of code is more of a necessity for any programming languages, it helps users from doing re-work in many ways. It is always easy and time-saving to maintain and modify the existing codes with incorporating new changes into it.\n",
    "With the use of data hiding and abstraction mechanism, we are filtering out limited data to exposure which means we are maintaining security and providing necessary data to view.\n",
    "OOP breaks down your software code into bite-sized. In doing this the broken components can be reused in solutions to different other problems (both less and more complex) or either they can be replaced by the future modules which relate to the same interface with implementations details.\n",
    "Object Oriented Programs forces the designers to have a longer and extensive design phase, which results in better designs and fewer flaws. \n"
   ]
  },
  {
   "cell_type": "markdown",
   "metadata": {},
   "source": [
    "Q:03: Differentiate between function and method.\n",
    "Ans\n",
    "Function \n",
    "A function is a piece of code that is called by name. It can be passed data to operate on (i.e. the parameters) and can optionally return data (the return value). All data that is passed to a function is explicitly passed.\n",
    "\n",
    "Method \n",
    "A method is a piece of code that is called by a name that is associated with an object. A method is implicitly passed the object on which it was called. A method is able to operate on data that is contained within the class. Remembering that an object is an instance of a class the class is the definition, the object is an instance of that data\n"
   ]
  },
  {
   "cell_type": "markdown",
   "metadata": {},
   "source": [
    "Q:04:Define the following terms:\n",
    "Ans \n",
    "Class:\n",
    "a class is a blueprint for creating objects, providing initial values for member variables or attributes, and implementations of behavior or methods. It defines nature of future objects.\n",
    "\n",
    "Object:\n",
    "An Object is an instance of a Class. When a class is defined, no memory is allocated but when it is instantiated (i.e. an object is created) memory is allocated.\n",
    "\n",
    "Attributes:\n",
    "Attributes are data stored inside a class or instance and represent the state or quality of the class or instance. In short, attributes store information about the instance. One can think of attributes as noun or adjective, while methods are the verb of the class.\n",
    "\n",
    "Behavior: \n",
    "A class's behavior determines how an instance of that class operates; for example, how it will \"react\" if asked to do something by another class or object or if its internal state changes. Behavior is the only way objects can do anything to themselves or have anything done to them.\n",
    "\n",
    "\n"
   ]
  },
  {
   "cell_type": "code",
   "execution_count": 1,
   "metadata": {},
   "outputs": [
    {
     "name": "stdout",
     "output_type": "stream",
     "text": [
      "The detail of car is as follows\n",
      "Car Name: Aulto\n",
      "Company: Suzuki\n",
      "Model: 2016\n",
      "Color: White\n",
      "Transmission: Manual\n",
      "\n",
      "The detail of car is as follows\n",
      "Car Name: Corolla\n",
      "Company: Toyota\n",
      "Model: 2017\n",
      "Color: Grey\n",
      "Transmission: Automatic\n",
      "\n",
      "The detail of car is as follows\n",
      "Car Name: Mini\n",
      "Company: Tata\n",
      "Model: 2018\n",
      "Color: White\n",
      "Transmission: Semi-automatic\n",
      "\n",
      "The detail of car is as follows\n",
      "Car Name: Picanto\n",
      "Company: Hyundai\n",
      "Model: 2019\n",
      "Color: Black\n",
      "Transmission: Automatic\n",
      "\n",
      "The detail of car is as follows\n",
      "Car Name: Mira\n",
      "Company: Japan Automobile\n",
      "Model: 2019\n",
      "Color: Silver\n",
      "Transmission: Automatic\n",
      "\n"
     ]
    }
   ],
   "source": [
    "#Q:05\n",
    "class Car():\n",
    "    def __init__(self,name,company,model,color,transmission):\n",
    "        self.name = name\n",
    "        self.company = company\n",
    "        self.model = model\n",
    "        self.color = color\n",
    "        self.transmission = transmission\n",
    "car1 = Car(\"Aulto\",\"Suzuki\",\"2016\",\"White\",\"Manual\")\n",
    "print (\"The detail of car is as follows\\nCar Name: \"+car1.name+\"\\nCompany: \"+car1.company+\"\\nModel: \"+car1.model+\"\\nColor: \"+car1.color+\"\\nTransmission: \"+car1.transmission+\"\\n\")\n",
    "car2 = Car(\"Corolla\",\"Toyota\",\"2017\",\"Grey\",\"Automatic\")\n",
    "print (\"The detail of car is as follows\\nCar Name: \"+car2.name+\"\\nCompany: \"+car2.company+\"\\nModel: \"+car2.model+\"\\nColor: \"+car2.color+\"\\nTransmission: \"+car2.transmission+\"\\n\")\n",
    "car3 = Car(\"Mini\",\"Tata\",\"2018\",\"White\",\"Semi-automatic\")\n",
    "print (\"The detail of car is as follows\\nCar Name: \"+car3.name+\"\\nCompany: \"+car3.company+\"\\nModel: \"+car3.model+\"\\nColor: \"+car3.color+\"\\nTransmission: \"+car3.transmission+\"\\n\")\n",
    "car4 = Car(\"Picanto\",\"Hyundai\",\"2019\",\"Black\",\"Automatic\")\n",
    "print (\"The detail of car is as follows\\nCar Name: \"+car4.name+\"\\nCompany: \"+car4.company+\"\\nModel: \"+car4.model+\"\\nColor: \"+car4.color+\"\\nTransmission: \"+car4.transmission+\"\\n\")\n",
    "car5 = Car(\"Mira\",\"Japan Automobile\",\"2019\",\"Silver\",\"Automatic\")\n",
    "print (\"The detail of car is as follows\\nCar Name: \"+car5.name+\"\\nCompany: \"+car5.company+\"\\nModel: \"+car5.model+\"\\nColor: \"+car5.color+\"\\nTransmission: \"+car5.transmission+\"\\n\")"
   ]
  },
  {
   "cell_type": "code",
   "execution_count": null,
   "metadata": {},
   "outputs": [],
   "source": []
  },
  {
   "cell_type": "code",
   "execution_count": null,
   "metadata": {},
   "outputs": [],
   "source": []
  }
 ],
 "metadata": {
  "kernelspec": {
   "display_name": "Python 3",
   "language": "python",
   "name": "python3"
  },
  "language_info": {
   "codemirror_mode": {
    "name": "ipython",
    "version": 3
   },
   "file_extension": ".py",
   "mimetype": "text/x-python",
   "name": "python",
   "nbconvert_exporter": "python",
   "pygments_lexer": "ipython3",
   "version": "3.7.4"
  }
 },
 "nbformat": 4,
 "nbformat_minor": 2
}
