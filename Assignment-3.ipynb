{
 "cells": [
  {
   "cell_type": "code",
   "execution_count": 3,
   "metadata": {},
   "outputs": [
    {
     "name": "stdout",
     "output_type": "stream",
     "text": [
      "Enter First Number: 3\n",
      "Enter Second Number: 6\n",
      "Enter Operator: **\n",
      "Power Result: 729\n"
     ]
    }
   ],
   "source": [
    "#Q:01: Make a calculator using Python with addition , subtraction , multiplication , division and power.'''\n",
    "\n",
    "number1=int(input(\"Enter First Number: \"))\n",
    "number2=int(input(\"Enter Second Number: \"))\n",
    "operator=input(\"Enter Operator: \")\n",
    "if(operator=='+'):\n",
    "    print(\"Sum Result: \"+str(number1+number2))\n",
    "elif(operator=='-'):\n",
    "    print(\"Substraction Result: \"+str(number1-number2))\n",
    "elif(operator=='-'):\n",
    "    print(\"Substract Result: \"+str(number1-number2))\n",
    "elif(operator=='*'):\n",
    "    print(\"Multiply Result: \"+str(number1*number2))\n",
    "elif(operator=='/'):\n",
    "    print(\"Divide Result: \"+str(number1/number2))\n",
    "elif(operator=='**'):\n",
    "    print(\"Power Result: \"+str(number1**number2))\n",
    "else:\n",
    "    print(\"Please Enter Correct Number!\")"
   ]
  },
  {
   "cell_type": "code",
   "execution_count": 6,
   "metadata": {},
   "outputs": [
    {
     "name": "stdout",
     "output_type": "stream",
     "text": [
      "String: Acturies\n",
      "Number: 34\n",
      "String: 3432\n",
      "String: sdf\n",
      "Number: 343\n",
      "Number: 389\n",
      "Number: 234\n",
      "String: 3243Final\n"
     ]
    }
   ],
   "source": [
    "#:02. Write a program to check if there is any numeric value in list using for loop'''\n",
    "\n",
    "testList=[\"Acturies\",34,\"3432\",\"sdf\",343,389,234,\"3243Final\"]\n",
    "for testElement in testList:\n",
    "    if(type(testElement)==int):\n",
    "        print(\"Number: \"+str(testElement))\n",
    "    else:\n",
    "        print(\"String: \"+testElement)"
   ]
  },
  {
   "cell_type": "code",
   "execution_count": 11,
   "metadata": {},
   "outputs": [
    {
     "data": {
      "text/plain": [
       "{'strikey': 'strivalue', 'numekey': 34343, 'aphakey': 32432, 'addnumkey': 8093}"
      ]
     },
     "execution_count": 11,
     "metadata": {},
     "output_type": "execute_result"
    }
   ],
   "source": [
    "#Q:03: Write a Python script to add a key to a dictionary'''\n",
    "\n",
    "dict={'strikey':'strivalue','numekey':34343,'aphakey':32432}\n",
    "dict['addnumkey']=8093\n",
    "dict"
   ]
  },
  {
   "cell_type": "code",
   "execution_count": 12,
   "metadata": {},
   "outputs": [
    {
     "name": "stdout",
     "output_type": "stream",
     "text": [
      "Sum Result: 990\n"
     ]
    }
   ],
   "source": [
    "'''4. Write a Python program to sum all the numeric items in a dictionary'''\n",
    "\n",
    "testList=[\"sfss\",34,\"3432\",\"sdf\",333,389,234,\"3243wer\"]\n",
    "sum=0\n",
    "for testElement in testList:\n",
    "    if(type(testElement)==int):\n",
    "        sum=sum+testElement\n",
    "print(\"Sum Result: \"+str(sum))"
   ]
  },
  {
   "cell_type": "code",
   "execution_count": 8,
   "metadata": {},
   "outputs": [
    {
     "name": "stdout",
     "output_type": "stream",
     "text": [
      "Current Dict is:  {'key1': 'geeks', 'key2': 'fill_me'}\n",
      "Updated Dict is:  {'key1': 'geeks', 'key2': 'for', 'key3': 'geeks'}\n"
     ]
    }
   ],
   "source": [
    "#Q:05: Write a program to identify duplicate values from list '''\n",
    "\n",
    "dict = {'key1':'geeks', 'key2':'fill_me'} \n",
    "print(\"Current Dict is: \", dict) \n",
    "  \n",
    "# using the subscript notation \n",
    "# Dictionary_Name[New_Key_Name] = New_Key_Value \n",
    "dict['key2'] = 'for'\n",
    "dict['key3'] = 'geeks'\n",
    "print(\"Updated Dict is: \", dict)\n"
   ]
  },
  {
   "cell_type": "code",
   "execution_count": 4,
   "metadata": {},
   "outputs": [
    {
     "name": "stdout",
     "output_type": "stream",
     "text": [
      "The sum of Numeric item in Dictioary are: 52428\n"
     ]
    }
   ],
   "source": [
    "#Q:06. Write a Python script to check if a given key already exists in a dictionary'''\n",
    "\n",
    "values_sum = 0\n",
    "keys_sum = 0\n",
    "dict = {\n",
    "    \"100\": \"Rupees\",\n",
    "    \"Age\": \"21\",\n",
    "    \"Income\": \"50000\",\n",
    "    \"potato_price_per_kg\": \"300\",\n",
    "    \"1997\": \"This is My Birth Year\",\n",
    "    \"10\": \"My Lucky Number\"\n",
    "}\n",
    "for values,keys in dict.items():\n",
    "    if values.isnumeric():\n",
    "        values_sum = int(values) + values_sum\n",
    "    if keys.isnumeric():\n",
    "        keys_sum = int(keys) + keys_sum\n",
    "print(\"The sum of Numeric item in Dictioary are:\",values_sum + keys_sum)\n"
   ]
  }
 ],
 "metadata": {
  "kernelspec": {
   "display_name": "Python 3",
   "language": "python",
   "name": "python3"
  },
  "language_info": {
   "codemirror_mode": {
    "name": "ipython",
    "version": 3
   },
   "file_extension": ".py",
   "mimetype": "text/x-python",
   "name": "python",
   "nbconvert_exporter": "python",
   "pygments_lexer": "ipython3",
   "version": "3.7.4"
  }
 },
 "nbformat": 4,
 "nbformat_minor": 2
}
