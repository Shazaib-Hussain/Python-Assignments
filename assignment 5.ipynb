{
 "cells": [
  {
   "cell_type": "code",
   "execution_count": 2,
   "metadata": {},
   "outputs": [
    {
     "name": "stdout",
     "output_type": "stream",
     "text": [
      "Enter English Marks : 50\n",
      "Enter English Marks : 64\n",
      "Enter English Marks : 58\n",
      "Enter English Marks : 72\n",
      "Enter English Marks : 70\n",
      "Total Marks: 314\n",
      "Grade : B\n"
     ]
    }
   ],
   "source": [
    "#Q:01: Write a program which takes 5 inputs from user for different subject's marks, total it and generate mark sheed using grades?'''\n",
    "math=int(input(\"Enter English Marks : \"))\n",
    "english=int(input(\"Enter English Marks : \"))\n",
    "urdu=int(input(\"Enter English Marks : \"))\n",
    "chemistry=int(input(\"Enter English Marks : \"))\n",
    "physics=int(input(\"Enter English Marks : \"))\n",
    "total_marks=math+english+urdu+chemistry+physics\n",
    "print(\"Total Marks: \" + str(total_marks))\n",
    "marks_Percentage=(total_marks/500)*100\n",
    "if(marks_Percentage>80):\n",
    "    print(\"Grade : A\")\n",
    "elif(marks_Percentage>60):\n",
    "    print(\"Grade : B\")\n",
    "elif(marks_Percentage>40):\n",
    "    print(\"Grade : C\")\n",
    "else:\n",
    "    print(\"Fail\")"
   ]
  },
  {
   "cell_type": "code",
   "execution_count": 4,
   "metadata": {},
   "outputs": [
    {
     "name": "stdout",
     "output_type": "stream",
     "text": [
      "Enter a number : 17\n",
      "Odd Number\n"
     ]
    }
   ],
   "source": [
    "#Q:02:Write a program which take input from user and identigy that the given nubmer is even or odd?'''\n",
    "number=int(input(\"Enter a number : \"))\n",
    "if(number%2==0):\n",
    "    print(\"Even Number\")\n",
    "else:\n",
    "    print(\"Odd Number\")\n"
   ]
  },
  {
   "cell_type": "code",
   "execution_count": 5,
   "metadata": {},
   "outputs": [
    {
     "name": "stdout",
     "output_type": "stream",
     "text": [
      "Length of list : 10\n"
     ]
    }
   ],
   "source": [
    "'''Write a program which print the length of the list?'''\n",
    "a=[3,42,23,4321,234,324,34,23,534,234]\n",
    "print(\"Length of list : \"+str(len(a)))"
   ]
  },
  {
   "cell_type": "code",
   "execution_count": 6,
   "metadata": {},
   "outputs": [
    {
     "name": "stdout",
     "output_type": "stream",
     "text": [
      "Sum : 1872\n"
     ]
    }
   ],
   "source": [
    "#Q:03:Write a python program to sum all the numeric items in a list?'''\n",
    "list_of_numbers=[3,42,23,421,234,324,34,23,534,234]\n",
    "sum=0\n",
    "for f in list_of_numbers:\n",
    "    sum=sum+f\n",
    "print(\"Sum : \"+str(sum))"
   ]
  },
  {
   "cell_type": "code",
   "execution_count": 8,
   "metadata": {},
   "outputs": [
    {
     "name": "stdout",
     "output_type": "stream",
     "text": [
      "Maximum number in list : 534\n"
     ]
    }
   ],
   "source": [
    "#Q:04:Write a python program to get the largest number from a numberic list?'''\n",
    "list_of_numbers=[3,42,23,421,234,324,34,23,534,234]\n",
    "print(\"Maximum number in list : \"+str(max(list_of_numbers)))"
   ]
  }
 ],
 "metadata": {
  "kernelspec": {
   "display_name": "Python 3",
   "language": "python",
   "name": "python3"
  },
  "language_info": {
   "codemirror_mode": {
    "name": "ipython",
    "version": 3
   },
   "file_extension": ".py",
   "mimetype": "text/x-python",
   "name": "python",
   "nbconvert_exporter": "python",
   "pygments_lexer": "ipython3",
   "version": "3.7.4"
  }
 },
 "nbformat": 4,
 "nbformat_minor": 2
}
